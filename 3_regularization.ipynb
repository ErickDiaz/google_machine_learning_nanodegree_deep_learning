{
 "cells": [
  {
   "cell_type": "markdown",
   "metadata": {
    "colab_type": "text",
    "id": "kR-4eNdK6lYS"
   },
   "source": [
    "Deep Learning\n",
    "=============\n",
    "\n",
    "Assignment 3\n",
    "------------\n",
    "\n",
    "Previously in `2_fullyconnected.ipynb`, you trained a logistic regression and a neural network model.\n",
    "\n",
    "The goal of this assignment is to explore regularization techniques."
   ]
  },
  {
   "cell_type": "code",
   "execution_count": 1,
   "metadata": {
    "cellView": "both",
    "colab": {
     "autoexec": {
      "startup": false,
      "wait_interval": 0
     }
    },
    "colab_type": "code",
    "collapsed": true,
    "id": "JLpLa8Jt7Vu4"
   },
   "outputs": [],
   "source": [
    "# These are all the modules we'll be using later. Make sure you can import them\n",
    "# before proceeding further.\n",
    "from __future__ import print_function\n",
    "import numpy as np\n",
    "import tensorflow as tf\n",
    "from six.moves import cPickle as pickle"
   ]
  },
  {
   "cell_type": "code",
   "execution_count": 35,
   "metadata": {
    "collapsed": true
   },
   "outputs": [],
   "source": [
    "import matplotlib.pyplot as plot\n",
    "%matplotlib inline"
   ]
  },
  {
   "cell_type": "markdown",
   "metadata": {
    "colab_type": "text",
    "id": "1HrCK6e17WzV"
   },
   "source": [
    "First reload the data we generated in _notmist.ipynb_."
   ]
  },
  {
   "cell_type": "code",
   "execution_count": 2,
   "metadata": {
    "cellView": "both",
    "colab": {
     "autoexec": {
      "startup": false,
      "wait_interval": 0
     },
     "output_extras": [
      {
       "item_id": 1
      }
     ]
    },
    "colab_type": "code",
    "collapsed": false,
    "executionInfo": {
     "elapsed": 11777,
     "status": "ok",
     "timestamp": 1449849322348,
     "user": {
      "color": "",
      "displayName": "",
      "isAnonymous": false,
      "isMe": true,
      "permissionId": "",
      "photoUrl": "",
      "sessionId": "0",
      "userId": ""
     },
     "user_tz": 480
    },
    "id": "y3-cj1bpmuxc",
    "outputId": "e03576f1-ebbe-4838-c388-f1777bcc9873"
   },
   "outputs": [
    {
     "name": "stdout",
     "output_type": "stream",
     "text": [
      "Training set (51909, 28, 28) (51909,)\n",
      "Validation set (10000, 28, 28) (10000,)\n",
      "Test set (10000, 28, 28) (10000,)\n"
     ]
    }
   ],
   "source": [
    "pickle_file = 'notMNIST.pickle'\n",
    "\n",
    "with open(pickle_file, 'rb') as f:\n",
    "  save = pickle.load(f)\n",
    "  train_dataset = save['train_dataset']\n",
    "  train_labels = save['train_labels']\n",
    "  valid_dataset = save['valid_dataset']\n",
    "  valid_labels = save['valid_labels']\n",
    "  test_dataset = save['test_dataset']\n",
    "  test_labels = save['test_labels']\n",
    "  del save  # hint to help gc free up memory\n",
    "  print('Training set', train_dataset.shape, train_labels.shape)\n",
    "  print('Validation set', valid_dataset.shape, valid_labels.shape)\n",
    "  print('Test set', test_dataset.shape, test_labels.shape)"
   ]
  },
  {
   "cell_type": "markdown",
   "metadata": {
    "colab_type": "text",
    "id": "L7aHrm6nGDMB"
   },
   "source": [
    "Reformat into a shape that's more adapted to the models we're going to train:\n",
    "- data as a flat matrix,\n",
    "- labels as float 1-hot encodings."
   ]
  },
  {
   "cell_type": "code",
   "execution_count": 3,
   "metadata": {
    "cellView": "both",
    "colab": {
     "autoexec": {
      "startup": false,
      "wait_interval": 0
     },
     "output_extras": [
      {
       "item_id": 1
      }
     ]
    },
    "colab_type": "code",
    "collapsed": false,
    "executionInfo": {
     "elapsed": 11728,
     "status": "ok",
     "timestamp": 1449849322356,
     "user": {
      "color": "",
      "displayName": "",
      "isAnonymous": false,
      "isMe": true,
      "permissionId": "",
      "photoUrl": "",
      "sessionId": "0",
      "userId": ""
     },
     "user_tz": 480
    },
    "id": "IRSyYiIIGIzS",
    "outputId": "3f8996ee-3574-4f44-c953-5c8a04636582"
   },
   "outputs": [
    {
     "name": "stdout",
     "output_type": "stream",
     "text": [
      "Training set (51909, 784) (51909, 10)\n",
      "Validation set (10000, 784) (10000, 10)\n",
      "Test set (10000, 784) (10000, 10)\n"
     ]
    }
   ],
   "source": [
    "image_size = 28\n",
    "num_labels = 10\n",
    "\n",
    "def reformat(dataset, labels):\n",
    "  dataset = dataset.reshape((-1, image_size * image_size)).astype(np.float32)\n",
    "  # Map 2 to [0.0, 1.0, 0.0 ...], 3 to [0.0, 0.0, 1.0 ...]\n",
    "  labels = (np.arange(num_labels) == labels[:,None]).astype(np.float32)\n",
    "  return dataset, labels\n",
    "train_dataset, train_labels = reformat(train_dataset, train_labels)\n",
    "valid_dataset, valid_labels = reformat(valid_dataset, valid_labels)\n",
    "test_dataset, test_labels = reformat(test_dataset, test_labels)\n",
    "print('Training set', train_dataset.shape, train_labels.shape)\n",
    "print('Validation set', valid_dataset.shape, valid_labels.shape)\n",
    "print('Test set', test_dataset.shape, test_labels.shape)"
   ]
  },
  {
   "cell_type": "code",
   "execution_count": 4,
   "metadata": {
    "cellView": "both",
    "colab": {
     "autoexec": {
      "startup": false,
      "wait_interval": 0
     }
    },
    "colab_type": "code",
    "collapsed": true,
    "id": "RajPLaL_ZW6w"
   },
   "outputs": [],
   "source": [
    "def accuracy(predictions, labels):\n",
    "  return (100.0 * np.sum(np.argmax(predictions, 1) == np.argmax(labels, 1))\n",
    "          / predictions.shape[0])"
   ]
  },
  {
   "cell_type": "markdown",
   "metadata": {
    "colab_type": "text",
    "id": "sgLbUAQ1CW-1"
   },
   "source": [
    "---\n",
    "Problem 1\n",
    "---------\n",
    "\n",
    "Introduce and tune L2 regularization for both logistic and neural network models. Remember that L2 amounts to adding a penalty on the norm of the weights to the loss. In TensorFlow, you can compute the L2 loss for a tensor `t` using `nn.l2_loss(t)`. The right amount of regularization should improve your validation / test accuracy.\n",
    "\n",
    "---"
   ]
  },
  {
   "cell_type": "code",
   "execution_count": 31,
   "metadata": {
    "collapsed": false
   },
   "outputs": [],
   "source": [
    "#logistic regression with regularization\n",
    "batch_size = 128\n",
    "graph = tf.Graph()\n",
    "with graph.as_default():\n",
    "    #dada\n",
    "    tf_train_dataset = tf.placeholder(tf.float32,\n",
    "                                    shape=(batch_size, image_size * image_size));\n",
    "    tf_train_labels = tf.placeholder(tf.float32, shape=(batch_size, num_labels));\n",
    "    regularization_factor = tf.placeholder(tf.float32);\n",
    "    tf_valid_dataset = tf.constant(valid_dataset);\n",
    "    tf_test_dataset = tf.constant(test_dataset);\n",
    "    \n",
    "    #Variables(weights and biases)\n",
    "    weights = tf.Variable(tf.truncated_normal([image_size*image_size,num_labels]));\n",
    "    biases = tf.Variable(tf.zeros(num_labels));\n",
    "    \n",
    "    #training computations\n",
    "    regularization = tf.nn.l2_loss(weights);\n",
    "    logits = tf.matmul(tf_train_dataset,weights) + biases;\n",
    "    loss = tf.reduce_mean(tf.nn.softmax_cross_entropy_with_logits(logits,tf_train_labels))+ (regularization_factor*regularization);\n",
    "    \n",
    "    #optimizer\n",
    "    optimizer = tf.train.GradientDescentOptimizer(0.5).minimize(loss);\n",
    "    \n",
    "    #predictions\n",
    "    train_prediction = tf.nn.softmax(logits);\n",
    "    valid_prediction = tf.nn.softmax(tf.matmul(tf_valid_dataset,weights)+biases);\n",
    "    test_prediction = tf.nn.softmax(tf.matmul(tf_test_dataset,weights)+biases);\n",
    "    "
   ]
  },
  {
   "cell_type": "code",
   "execution_count": 41,
   "metadata": {
    "collapsed": false
   },
   "outputs": [
    {
     "name": "stdout",
     "output_type": "stream",
     "text": [
      "Initialized for reg:0.0001\n",
      "Validation accuracy: 79.4%\n",
      "Test accuracy: 86.8%\n",
      "Initialized for reg:0.000125892541179\n",
      "Validation accuracy: 79.6%\n",
      "Test accuracy: 86.6%\n",
      "Initialized for reg:0.000158489319246\n",
      "Validation accuracy: 79.5%\n",
      "Test accuracy: 86.8%\n",
      "Initialized for reg:0.000199526231497\n",
      "Validation accuracy: 80.4%\n",
      "Test accuracy: 87.1%\n",
      "Initialized for reg:0.000251188643151\n",
      "Validation accuracy: 80.3%\n",
      "Test accuracy: 87.7%\n",
      "Initialized for reg:0.000316227766017\n",
      "Validation accuracy: 81.0%\n",
      "Test accuracy: 87.8%\n",
      "Initialized for reg:0.000398107170553\n",
      "Validation accuracy: 81.0%\n",
      "Test accuracy: 87.9%\n",
      "Initialized for reg:0.000501187233627\n",
      "Validation accuracy: 81.2%\n",
      "Test accuracy: 88.0%\n",
      "Initialized for reg:0.00063095734448\n",
      "Validation accuracy: 82.1%\n",
      "Test accuracy: 88.6%\n",
      "Initialized for reg:0.000794328234724\n",
      "Validation accuracy: 82.1%\n",
      "Test accuracy: 88.9%\n",
      "Initialized for reg:0.001\n",
      "Validation accuracy: 82.2%\n",
      "Test accuracy: 88.8%\n",
      "Initialized for reg:0.00125892541179\n",
      "Validation accuracy: 82.7%\n",
      "Test accuracy: 89.0%\n",
      "Initialized for reg:0.00158489319246\n",
      "Validation accuracy: 82.7%\n",
      "Test accuracy: 89.1%\n",
      "Initialized for reg:0.00199526231497\n",
      "Validation accuracy: 82.5%\n",
      "Test accuracy: 89.1%\n",
      "Initialized for reg:0.00251188643151\n",
      "Validation accuracy: 82.6%\n",
      "Test accuracy: 89.0%\n",
      "Initialized for reg:0.00316227766017\n",
      "Validation accuracy: 82.7%\n",
      "Test accuracy: 89.1%\n",
      "Initialized for reg:0.00398107170553\n",
      "Validation accuracy: 82.6%\n",
      "Test accuracy: 89.0%\n",
      "Initialized for reg:0.00501187233627\n",
      "Validation accuracy: 82.4%\n",
      "Test accuracy: 88.9%\n",
      "Initialized for reg:0.0063095734448\n",
      "Validation accuracy: 82.3%\n",
      "Test accuracy: 88.7%\n",
      "Initialized for reg:0.00794328234724\n",
      "Validation accuracy: 82.2%\n",
      "Test accuracy: 88.6%\n",
      "Initialized for reg:0.01\n",
      "Validation accuracy: 82.1%\n",
      "Test accuracy: 88.5%\n",
      "Initialized for reg:0.0125892541179\n",
      "Validation accuracy: 82.0%\n",
      "Test accuracy: 88.3%\n",
      "Initialized for reg:0.0158489319246\n",
      "Validation accuracy: 81.8%\n",
      "Test accuracy: 88.3%\n",
      "Initialized for reg:0.0199526231497\n",
      "Validation accuracy: 81.6%\n",
      "Test accuracy: 88.0%\n",
      "Initialized for reg:0.0251188643151\n",
      "Validation accuracy: 81.5%\n",
      "Test accuracy: 88.0%\n",
      "Initialized for reg:0.0316227766017\n",
      "Validation accuracy: 81.1%\n",
      "Test accuracy: 87.8%\n",
      "Initialized for reg:0.0398107170553\n",
      "Validation accuracy: 80.8%\n",
      "Test accuracy: 87.5%\n",
      "Initialized for reg:0.0501187233627\n",
      "Validation accuracy: 80.3%\n",
      "Test accuracy: 87.2%\n",
      "Initialized for reg:0.063095734448\n",
      "Validation accuracy: 80.0%\n",
      "Test accuracy: 86.5%\n",
      "Initialized for reg:0.0794328234724\n",
      "Validation accuracy: 79.0%\n",
      "Test accuracy: 85.6%\n",
      "Initialized for reg:0.1\n",
      "Validation accuracy: 77.9%\n",
      "Test accuracy: 84.3%\n",
      "Initialized for reg:0.125892541179\n",
      "Validation accuracy: 76.6%\n",
      "Test accuracy: 82.6%\n",
      "Initialized for reg:0.158489319246\n",
      "Validation accuracy: 75.0%\n",
      "Test accuracy: 81.0%\n",
      "Initialized for reg:0.199526231497\n",
      "Validation accuracy: 73.2%\n",
      "Test accuracy: 79.4%\n",
      "Initialized for reg:0.251188643151\n",
      "Validation accuracy: 71.3%\n",
      "Test accuracy: 77.5%\n",
      "Initialized for reg:0.316227766017\n",
      "Validation accuracy: 68.7%\n",
      "Test accuracy: 74.6%\n",
      "Initialized for reg:0.398107170554\n",
      "Validation accuracy: 65.4%\n",
      "Test accuracy: 70.8%\n",
      "Initialized for reg:0.501187233627\n",
      "Validation accuracy: 61.0%\n",
      "Test accuracy: 66.2%\n",
      "Initialized for reg:0.63095734448\n",
      "Validation accuracy: 57.1%\n",
      "Test accuracy: 61.6%\n"
     ]
    }
   ],
   "source": [
    "#run and evaluate\n",
    "num_steps = 3001\n",
    "regularizators = [pow(10,i) for i in np.arange(-4, -0.1, 0.1)];\n",
    "train_accuracy = [];\n",
    "valid_accuracy = [];\n",
    "\n",
    "for regul_factor in regularizators:\n",
    "    with tf.Session(graph=graph) as session:\n",
    "        tf.initialize_all_variables().run();\n",
    "        print(\"Initialized for reg:\"+str(regul_factor));\n",
    "\n",
    "        for step in range(num_steps):\n",
    "            offset = (step * batch_size) % (train_labels.shape[0] - batch_size);\n",
    "            batch_data = train_dataset[offset:(offset + batch_size), :]\n",
    "            batch_labels = train_labels[offset:(offset + batch_size), :]\n",
    "            feed_dict = {tf_train_dataset:batch_data,tf_train_labels:batch_labels , regularization_factor : regul_factor };\n",
    "            _,l,predictions =  session.run([optimizer,loss,train_prediction],feed_dict= feed_dict);\n",
    "\n",
    "        print(\"Validation accuracy: %.1f%%\" % accuracy(\n",
    "                valid_prediction.eval(), valid_labels));\n",
    "        valid_accuracy.append(accuracy(\n",
    "                valid_prediction.eval(), valid_labels));\n",
    "        print(\"Test accuracy: %.1f%%\" % accuracy(test_prediction.eval(), test_labels));\n",
    "        test_accuracy.append(accuracy(test_prediction.eval(), test_labels));"
   ]
  },
  {
   "cell_type": "code",
   "execution_count": 42,
   "metadata": {
    "collapsed": false
   },
   "outputs": [
    {
     "data": {
      "image/png": "[encoded data removed]",
      "text/plain": [
       "<matplotlib.figure.Figure at 0x7f9270470110>"
      ]
     },
     "metadata": {},
     "output_type": "display_data"
    }
   ],
   "source": [
    "plot.semilogx(regularizators, valid_accuracy)\n",
    "plot.grid(True)\n",
    "plot.title('Regularization factor evaluation in CV dataset')\n",
    "plot.show()"
   ]
  },
  {
   "cell_type": "code",
   "execution_count": 43,
   "metadata": {
    "collapsed": false
   },
   "outputs": [
    {
     "data": {
      "image/png": "[encoded data removed]",
      "text/plain": [
       "<matplotlib.figure.Figure at 0x7f927057ba10>"
      ]
     },
     "metadata": {},
     "output_type": "display_data"
    }
   ],
   "source": [
    "plot.semilogx(regularizators, test_accuracy)\n",
    "plot.grid(True)\n",
    "plot.title('Regularization factor evaluation in test dataset')\n",
    "plot.show()"
   ]
  },
  {
   "cell_type": "markdown",
   "metadata": {},
   "source": [
    "Regularization factor selected for logistic classifier: 0.00158489319246"
   ]
  },
  {
   "cell_type": "code",
   "execution_count": null,
   "metadata": {
    "collapsed": true
   },
   "outputs": [],
   "source": []
  },
  {
   "cell_type": "markdown",
   "metadata": {
    "colab_type": "text",
    "id": "na8xX2yHZzNF"
   },
   "source": [
    "---\n",
    "Problem 2\n",
    "---------\n",
    "Let's demonstrate an extreme case of overfitting. Restrict your training data to just a few batches. What happens?\n",
    "\n",
    "---"
   ]
  },
  {
   "cell_type": "markdown",
   "metadata": {
    "colab_type": "text",
    "id": "ww3SCBUdlkRc"
   },
   "source": [
    "---\n",
    "Problem 3\n",
    "---------\n",
    "Introduce Dropout on the hidden layer of the neural network. Remember: Dropout should only be introduced during training, not evaluation, otherwise your evaluation results would be stochastic as well. TensorFlow provides `nn.dropout()` for that, but you have to make sure it's only inserted during training.\n",
    "\n",
    "What happens to our extreme overfitting case?\n",
    "\n",
    "---"
   ]
  },
  {
   "cell_type": "markdown",
   "metadata": {
    "colab_type": "text",
    "id": "-b1hTz3VWZjw"
   },
   "source": [
    "---\n",
    "Problem 4\n",
    "---------\n",
    "\n",
    "Try to get the best performance you can using a multi-layer model! The best reported test accuracy using a deep network is [97.1%](http://yaroslavvb.blogspot.com/2011/09/notmnist-dataset.html?showComment=1391023266211#c8758720086795711595).\n",
    "\n",
    "One avenue you can explore is to add multiple layers.\n",
    "\n",
    "Another one is to use learning rate decay:\n",
    "\n",
    "    global_step = tf.Variable(0)  # count the number of steps taken.\n",
    "    learning_rate = tf.train.exponential_decay(0.5, global_step, ...)\n",
    "    optimizer = tf.train.GradientDescentOptimizer(learning_rate).minimize(loss, global_step=global_step)\n",
    " \n",
    " ---\n"
   ]
  }
 ],
 "metadata": {
  "colab": {
   "default_view": {},
   "name": "3_regularization.ipynb",
   "provenance": [],
   "version": "0.3.2",
   "views": {}
  },
  "kernelspec": {
   "display_name": "Python 2",
   "language": "python",
   "name": "python2"
  },
  "language_info": {
   "codemirror_mode": {
    "name": "ipython",
    "version": 2
   },
   "file_extension": ".py",
   "mimetype": "text/x-python",
   "name": "python",
   "nbconvert_exporter": "python",
   "pygments_lexer": "ipython2",
   "version": "2.7.12"
  }
 },
 "nbformat": 4,
 "nbformat_minor": 0
}
